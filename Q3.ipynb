{
 "cells": [
  {
   "cell_type": "markdown",
   "metadata": {},
   "source": [
    "從混合的袋子中拿一枝筆\n",
    "可以確定該袋子是何種，因不會是混合\n",
    "假設是鉛筆，則剩下的(鉛筆，原子筆)會有一個真的是原子筆另一個是混合\n",
    "這時回到敘述皆錯誤的前期，\n",
    "(原子筆)必是混合\n",
    "(鉛筆)必是原子筆"
   ]
  }
 ],
 "metadata": {
  "kernelspec": {
   "display_name": "Python 3",
   "language": "python",
   "name": "python3"
  },
  "language_info": {
   "codemirror_mode": {
    "name": "ipython",
    "version": 3
   },
   "file_extension": ".py",
   "mimetype": "text/x-python",
   "name": "python",
   "nbconvert_exporter": "python",
   "pygments_lexer": "ipython3",
   "version": "3.6.5"
  }
 },
 "nbformat": 4,
 "nbformat_minor": 2
}
