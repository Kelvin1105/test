{
 "cells": [
  {
   "cell_type": "markdown",
   "metadata": {},
   "source": [
    "原價是900\n",
    "特價750\n",
    "900 = (250+50)*3\n",
    "理解為 每個人出300  = 餐費250+找錢50\n",
    "\n",
    "但今天服務生拿了60走 每人只拿回30\n",
    "所以 (250+30)*3 +60 = 900 無誤\n"
   ]
  }
 ],
 "metadata": {
  "kernelspec": {
   "display_name": "Python 3",
   "language": "python",
   "name": "python3"
  },
  "language_info": {
   "codemirror_mode": {
    "name": "ipython",
    "version": 3
   },
   "file_extension": ".py",
   "mimetype": "text/x-python",
   "name": "python",
   "nbconvert_exporter": "python",
   "pygments_lexer": "ipython3",
   "version": "3.6.5"
  }
 },
 "nbformat": 4,
 "nbformat_minor": 2
}
